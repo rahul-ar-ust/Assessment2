{
  "cells": [
    {
      "cell_type": "markdown",
      "source": [
        "**Image Description Generator**:\n",
        "\n",
        "Build a tool that generates detailed, accurate text descriptions of uploaded images to improve accessibility.\n",
        "This tests their ability to integrate multimodal AI capabilities. (consider architecture pictures)"
      ],
      "metadata": {
        "id": "aH5iBE-0J1lj"
      }
    },
    {
      "cell_type": "code",
      "source": [
        "import requests\n",
        "from io import BytesIO\n",
        "from PIL import Image\n",
        "from transformers import BlipProcessor, BlipForConditionalGeneration\n",
        "import torch\n",
        "\n",
        "processor = BlipProcessor.from_pretrained(\"Salesforce/blip-image-captioning-large\")\n",
        "model = BlipForConditionalGeneration.from_pretrained(\"Salesforce/blip-image-captioning-large\")\n",
        "\n",
        "def generate_caption(image_path):\n",
        "    \"\"\"Generate a highly detailed caption using BLIP.\"\"\"\n",
        "    if image_path.startswith(\"http\"):\n",
        "        headers = {\"User-Agent\": \"Mozilla/5.0\"}\n",
        "        response = requests.get(image_path, headers=headers, stream=True)\n",
        "        if response.status_code == 200 and \"image\" in response.headers.get(\"Content-Type\", \"\"):\n",
        "            image = Image.open(BytesIO(response.content)).convert(\"RGB\")\n",
        "        else:\n",
        "            raise Exception(f\"Failed to download image, status code: {response.status_code}\")\n",
        "    else:\n",
        "        image = Image.open(image_path).convert(\"RGB\")\n",
        "\n",
        "    inputs = processor(images=image, return_tensors=\"pt\")\n",
        "\n",
        "    with torch.no_grad():\n",
        "        output = model.generate(\n",
        "            **inputs,\n",
        "            max_length=500,\n",
        "            num_beams=10,\n",
        "            repetition_penalty=2.5,\n",
        "            do_sample=True,\n",
        "            temperature=0.5,\n",
        "            top_k=50,\n",
        "            num_return_sequences=1,\n",
        "            decoder_start_token_id=model.config.bos_token_id\n",
        "        )\n",
        "\n",
        "    return processor.decode(output[0], skip_special_tokens=True)\n",
        "\n",
        "image_url = \"https://www.cybermedian.com/wp-content/uploads/2022/02/0j3G8oZH4Yj5voOmG.png\"\n",
        "\n",
        "try:\n",
        "    caption = generate_caption(image_url)\n",
        "    print(\"Generated Caption:\", caption)\n",
        "except Exception as e:\n",
        "    print(\"Error:\", e)\n"
      ],
      "metadata": {
        "id": "--3KuQdSCFv1",
        "outputId": "65b6187c-5bd7-45df-f625-d9817cf11a38",
        "colab": {
          "base_uri": "https://localhost:8080/"
        }
      },
      "execution_count": 3,
      "outputs": [
        {
          "output_type": "stream",
          "name": "stdout",
          "text": [
            "Generated Caption: this is an image of a flow diagram that shows how to use the system\n"
          ]
        }
      ]
    },
    {
      "cell_type": "code",
      "source": [
        "import os\n",
        "from groq import Groq\n",
        "import pytesseract\n",
        "from PIL import Image\n",
        "import requests\n",
        "\n",
        "os.environ[\"GROQ_API_KEY\"]=\"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\"\n",
        "client = Groq()\n",
        "completion = client.chat.completions.create(\n",
        "    model=\"llama-3.2-11b-vision-preview\",\n",
        "    messages=[\n",
        "        {\n",
        "            \"role\": \"user\",\n",
        "            \"content\": [\n",
        "                {\n",
        "                    \"type\": \"text\",\n",
        "                    \"text\": \"Explain the image.\"\n",
        "                },\n",
        "                {\n",
        "                    \"type\": \"image_url\",\n",
        "                    \"image_url\": {\n",
        "                        \"url\": \"https://www.cybermedian.com/wp-content/uploads/2022/02/0j3G8oZH4Yj5voOmG.png\"\n",
        "                    }\n",
        "                }\n",
        "            ]\n",
        "        }\n",
        "    ],\n",
        "    temperature=1,\n",
        "    max_completion_tokens=1024,\n",
        "    top_p=1,\n",
        "    stream=False,\n",
        "    stop=None,\n",
        ")\n",
        "\n",
        "print(\"Image Description:\", completion.choices[0].message.content)\n"
      ],
      "metadata": {
        "id": "PlwuOwTvdiUh",
        "outputId": "7d775ac1-4ea6-4f19-8d10-5db219ef1d94",
        "colab": {
          "base_uri": "https://localhost:8080/"
        }
      },
      "execution_count": 19,
      "outputs": [
        {
          "output_type": "stream",
          "name": "stdout",
          "text": [
            "Image Description: This infographic presents a flowchart illustrating the operation of a specific process.\n",
            "\n",
            "The flowchart begins at the top left corner and tracks 15 main steps, with the starting position outlined. The first three actions are: 1. \"Power On\" (blue box, accompanied by \"start\")\n",
            "2. \"Plan Route\" (yellow box), and\n",
            "3. \"Scan Environment\" (blue box, no accompanying action). The fourth step is to \"Generates Map and Location\" (yellow box), which will be used to define the \"Route\" (blue box). From this point onwards, the process proceeds mainly in shades of yellow and light blue.\n",
            "\n",
            "The chart provides information about the battery, environment, and route by indicating the various states such as \"battery Low\", \"vacuum Full\", and \"Follow Route\", along with subsequent decision points and actions. The final main action is returned to the battery area to \"stop moving\". In summary, the chart presents a sequence of actions that are governed by conditions. The chart starts and ends with \"start\" and \"End,\" respectively, but shows no flowchart ending symbol like several other choices. The four primary boxes are emphasized with thicker bold (bold and black) outlines.\n"
          ]
        }
      ]
    }
  ],
  "metadata": {
    "kernelspec": {
      "display_name": "Python 3",
      "name": "python3"
    },
    "language_info": {
      "codemirror_mode": {
        "name": "ipython",
        "version": 3
      },
      "file_extension": ".py",
      "mimetype": "text/x-python",
      "name": "python",
      "nbconvert_exporter": "python",
      "pygments_lexer": "ipython3",
      "version": "3.12.9"
    },
    "colab": {
      "provenance": [],
      "gpuType": "T4"
    },
    "accelerator": "GPU"
  },
  "nbformat": 4,
  "nbformat_minor": 0
}